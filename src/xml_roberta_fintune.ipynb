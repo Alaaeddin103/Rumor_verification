{
  "nbformat": 4,
  "nbformat_minor": 0,
  "metadata": {
    "colab": {
      "provenance": [],
      "gpuType": "T4"
    },
    "kernelspec": {
      "name": "python3",
      "display_name": "Python 3"
    },
    "language_info": {
      "name": "python"
    },
    "accelerator": "GPU"
  },
  "cells": [
    {
      "cell_type": "code",
      "execution_count": 4,
      "metadata": {
        "colab": {
          "base_uri": "https://localhost:8080/",
          "height": 629
        },
        "id": "VsqtNCWysTy2",
        "outputId": "0cf1b522-7347-4413-ce2b-f5d6523f4ae4"
      },
      "outputs": [
        {
          "output_type": "stream",
          "name": "stderr",
          "text": [
            "/usr/local/lib/python3.10/dist-packages/transformers/tokenization_utils_base.py:1601: FutureWarning: `clean_up_tokenization_spaces` was not set. It will be set to `True` by default. This behavior will be depracted in transformers v4.45, and will be then set to `False` by default. For more details check this issue: https://github.com/huggingface/transformers/issues/31884\n",
            "  warnings.warn(\n",
            "Some weights of XLMRobertaForSequenceClassification were not initialized from the model checkpoint at xlm-roberta-base and are newly initialized: ['classifier.dense.bias', 'classifier.dense.weight', 'classifier.out_proj.bias', 'classifier.out_proj.weight']\n",
            "You should probably TRAIN this model on a down-stream task to be able to use it for predictions and inference.\n",
            "/usr/local/lib/python3.10/dist-packages/transformers/training_args.py:1525: FutureWarning: `evaluation_strategy` is deprecated and will be removed in version 4.46 of 🤗 Transformers. Use `eval_strategy` instead\n",
            "  warnings.warn(\n"
          ]
        },
        {
          "output_type": "display_data",
          "data": {
            "text/plain": [
              "<IPython.core.display.HTML object>"
            ],
            "text/html": [
              "\n",
              "    <div>\n",
              "      \n",
              "      <progress value='410' max='410' style='width:300px; height:20px; vertical-align: middle;'></progress>\n",
              "      [410/410 03:36, Epoch 10/10]\n",
              "    </div>\n",
              "    <table border=\"1\" class=\"dataframe\">\n",
              "  <thead>\n",
              " <tr style=\"text-align: left;\">\n",
              "      <th>Epoch</th>\n",
              "      <th>Training Loss</th>\n",
              "      <th>Validation Loss</th>\n",
              "      <th>Accuracy</th>\n",
              "      <th>Precision</th>\n",
              "      <th>Recall</th>\n",
              "      <th>F1</th>\n",
              "    </tr>\n",
              "  </thead>\n",
              "  <tbody>\n",
              "    <tr>\n",
              "      <td>1</td>\n",
              "      <td>No log</td>\n",
              "      <td>1.017071</td>\n",
              "      <td>0.456790</td>\n",
              "      <td>0.208657</td>\n",
              "      <td>0.456790</td>\n",
              "      <td>0.286462</td>\n",
              "    </tr>\n",
              "    <tr>\n",
              "      <td>2</td>\n",
              "      <td>No log</td>\n",
              "      <td>0.560156</td>\n",
              "      <td>0.691358</td>\n",
              "      <td>0.811728</td>\n",
              "      <td>0.691358</td>\n",
              "      <td>0.691588</td>\n",
              "    </tr>\n",
              "    <tr>\n",
              "      <td>3</td>\n",
              "      <td>No log</td>\n",
              "      <td>0.232947</td>\n",
              "      <td>0.938272</td>\n",
              "      <td>0.939983</td>\n",
              "      <td>0.938272</td>\n",
              "      <td>0.937782</td>\n",
              "    </tr>\n",
              "    <tr>\n",
              "      <td>4</td>\n",
              "      <td>No log</td>\n",
              "      <td>0.304086</td>\n",
              "      <td>0.938272</td>\n",
              "      <td>0.939492</td>\n",
              "      <td>0.938272</td>\n",
              "      <td>0.938596</td>\n",
              "    </tr>\n",
              "    <tr>\n",
              "      <td>5</td>\n",
              "      <td>No log</td>\n",
              "      <td>0.204872</td>\n",
              "      <td>0.962963</td>\n",
              "      <td>0.964506</td>\n",
              "      <td>0.962963</td>\n",
              "      <td>0.963018</td>\n",
              "    </tr>\n",
              "    <tr>\n",
              "      <td>6</td>\n",
              "      <td>No log</td>\n",
              "      <td>0.194528</td>\n",
              "      <td>0.975309</td>\n",
              "      <td>0.976530</td>\n",
              "      <td>0.975309</td>\n",
              "      <td>0.975280</td>\n",
              "    </tr>\n",
              "    <tr>\n",
              "      <td>7</td>\n",
              "      <td>No log</td>\n",
              "      <td>0.199721</td>\n",
              "      <td>0.975309</td>\n",
              "      <td>0.976530</td>\n",
              "      <td>0.975309</td>\n",
              "      <td>0.975280</td>\n",
              "    </tr>\n",
              "    <tr>\n",
              "      <td>8</td>\n",
              "      <td>No log</td>\n",
              "      <td>0.199855</td>\n",
              "      <td>0.975309</td>\n",
              "      <td>0.976530</td>\n",
              "      <td>0.975309</td>\n",
              "      <td>0.975280</td>\n",
              "    </tr>\n",
              "    <tr>\n",
              "      <td>9</td>\n",
              "      <td>No log</td>\n",
              "      <td>0.201592</td>\n",
              "      <td>0.975309</td>\n",
              "      <td>0.976530</td>\n",
              "      <td>0.975309</td>\n",
              "      <td>0.975280</td>\n",
              "    </tr>\n",
              "    <tr>\n",
              "      <td>10</td>\n",
              "      <td>No log</td>\n",
              "      <td>0.201618</td>\n",
              "      <td>0.975309</td>\n",
              "      <td>0.976530</td>\n",
              "      <td>0.975309</td>\n",
              "      <td>0.975280</td>\n",
              "    </tr>\n",
              "  </tbody>\n",
              "</table><p>"
            ]
          },
          "metadata": {}
        },
        {
          "output_type": "display_data",
          "data": {
            "text/plain": [
              "<IPython.core.display.HTML object>"
            ],
            "text/html": [
              "\n",
              "    <div>\n",
              "      \n",
              "      <progress value='11' max='11' style='width:300px; height:20px; vertical-align: middle;'></progress>\n",
              "      [11/11 00:01]\n",
              "    </div>\n",
              "    "
            ]
          },
          "metadata": {}
        },
        {
          "output_type": "stream",
          "name": "stdout",
          "text": [
            "Results: {'eval_loss': 0.20161807537078857, 'eval_accuracy': 0.9753086419753086, 'eval_precision': 0.976529934952874, 'eval_recall': 0.9753086419753086, 'eval_f1': 0.9752797570721486, 'eval_runtime': 1.2388, 'eval_samples_per_second': 65.384, 'eval_steps_per_second': 8.879, 'epoch': 10.0}\n",
            "Accuracy: 0.9753086419753086\n",
            "Precision: 0.976529934952874\n",
            "Recall: 0.9753086419753086\n",
            "F1-Score: 0.9752797570721486\n"
          ]
        }
      ],
      "source": [
        "import json\n",
        "import torch\n",
        "from sklearn.model_selection import train_test_split\n",
        "from transformers import XLMRobertaTokenizer, XLMRobertaForSequenceClassification, Trainer, TrainingArguments\n",
        "from sklearn.metrics import precision_recall_fscore_support, accuracy_score\n",
        "import numpy as np\n",
        "\n",
        "# Lade den neuen Datensatz mit Rumor-Evidence-Label-Paaren\n",
        "with open('/content/rumor_evidence_label_pairs.json', 'r') as f:\n",
        "    data = json.load(f)\n",
        "\n",
        "# Extrahiere Rumor, Evidence und Labels aus dem Datensatz\n",
        "rumor_texts = [item['rumor'] for item in data]\n",
        "evidence_texts = [item['evidence'] for item in data]\n",
        "labels = [item['label'] for item in data]\n",
        "\n",
        "# Kombiniere Rumor und Evidence klar definiert für das Modell-Training\n",
        "combined_texts = [f\"Rumor: {rumor} [SEP] Evidence: {evidence}\" for rumor, evidence in zip(rumor_texts, evidence_texts)]\n",
        "\n",
        "# Konvertiere Label-Texte in numerische Werte\n",
        "label_to_id = {'SUPPORTS': 0, 'REFUTES': 1, 'NOT ENOUGH INFO': 2}\n",
        "numerical_labels = [label_to_id[label] for label in labels]\n",
        "\n",
        "# Splitte den Datensatz in Trainings- und Testdaten\n",
        "train_texts, test_texts, train_labels, test_labels = train_test_split(combined_texts, numerical_labels, test_size=0.2)\n",
        "\n",
        "# Lade den Tokenizer\n",
        "tokenizer = XLMRobertaTokenizer.from_pretrained('xlm-roberta-base')\n",
        "\n",
        "# Tokenisiere die Daten\n",
        "def tokenize_function(texts):\n",
        "    return tokenizer(texts, padding=\"max_length\", truncation=True, max_length=256)\n",
        "\n",
        "train_encodings = tokenize_function(train_texts)\n",
        "test_encodings = tokenize_function(test_texts)\n",
        "\n",
        "# Konvertiere Labels in PyTorch-Tensoren\n",
        "train_labels = torch.tensor(train_labels)\n",
        "test_labels = torch.tensor(test_labels)\n",
        "\n",
        "# Erstelle PyTorch-Datensätze\n",
        "class RumorStanceDataset(torch.utils.data.Dataset):\n",
        "    def __init__(self, encodings, labels):\n",
        "        self.encodings = encodings\n",
        "        self.labels = labels\n",
        "\n",
        "    def __getitem__(self, idx):\n",
        "        item = {key: torch.tensor(val[idx]) for key, val in self.encodings.items()}\n",
        "        item['labels'] = self.labels[idx]\n",
        "        return item\n",
        "\n",
        "    def __len__(self):\n",
        "        return len(self.labels)\n",
        "\n",
        "train_dataset = RumorStanceDataset(train_encodings, train_labels)\n",
        "test_dataset = RumorStanceDataset(test_encodings, test_labels)\n",
        "\n",
        "# Lade das XLM-RoBERTa-Modell für die Klassifikation\n",
        "model = XLMRobertaForSequenceClassification.from_pretrained('xlm-roberta-base', num_labels=3)\n",
        "\n",
        "# Definiere die Trainingsparameter\n",
        "training_args = TrainingArguments(\n",
        "    output_dir='./results',\n",
        "    num_train_epochs=10,\n",
        "    per_device_train_batch_size=8,\n",
        "    per_device_eval_batch_size=8,\n",
        "    logging_dir='./logs',\n",
        "    evaluation_strategy=\"epoch\",\n",
        ")\n",
        "\n",
        "# Berechne die Metriken (Precision, Recall, F1, Accuracy)\n",
        "def compute_metrics(pred):\n",
        "    labels = pred.label_ids\n",
        "    preds = np.argmax(pred.predictions, axis=1)\n",
        "\n",
        "    precision, recall, f1, _ = precision_recall_fscore_support(labels, preds, average='weighted', zero_division=0)\n",
        "    acc = accuracy_score(labels, preds)\n",
        "\n",
        "    return {\n",
        "        'accuracy': acc,\n",
        "        'precision': precision,\n",
        "        'recall': recall,\n",
        "        'f1': f1\n",
        "    }\n",
        "\n",
        "# Erstelle den Trainer mit den Metriken\n",
        "trainer = Trainer(\n",
        "    model=model,\n",
        "    args=training_args,\n",
        "    train_dataset=train_dataset,\n",
        "    eval_dataset=test_dataset,\n",
        "    tokenizer=tokenizer,\n",
        "    compute_metrics=compute_metrics\n",
        ")\n",
        "\n",
        "# Starte das Training\n",
        "trainer.train()\n",
        "\n",
        "# Speichere das feinabgestimmte Modell\n",
        "model.save_pretrained('/content/fine-tuned-xlm-roberta')\n",
        "tokenizer.save_pretrained('/content/fine-tuned-xlm-roberta')\n",
        "\n",
        "# Führe die Bewertung des Modells durch\n",
        "results = trainer.evaluate()\n",
        "print(f\"Results: {results}\")\n",
        "print(f\"Accuracy: {results['eval_accuracy']}\")\n",
        "print(f\"Precision: {results['eval_precision']}\")\n",
        "print(f\"Recall: {results['eval_recall']}\")\n",
        "print(f\"F1-Score: {results['eval_f1']}\")\n"
      ]
    },
    {
      "cell_type": "code",
      "source": [
        "!zip -r /content/fine-tuned-xlm-roberta.zip /content/fine-tuned-xlm-roberta\n"
      ],
      "metadata": {
        "colab": {
          "base_uri": "https://localhost:8080/"
        },
        "id": "9F14IL1BtiK2",
        "outputId": "a0c9a388-0125-4b6f-c84a-4c2455cd9cd8"
      },
      "execution_count": 5,
      "outputs": [
        {
          "output_type": "stream",
          "name": "stdout",
          "text": [
            "updating: content/fine-tuned-xlm-roberta/ (stored 0%)\n",
            "updating: content/fine-tuned-xlm-roberta/sentencepiece.bpe.model (deflated 49%)\n",
            "updating: content/fine-tuned-xlm-roberta/model.safetensors (deflated 31%)\n",
            "updating: content/fine-tuned-xlm-roberta/config.json (deflated 52%)\n",
            "updating: content/fine-tuned-xlm-roberta/tokenizer_config.json (deflated 76%)\n",
            "updating: content/fine-tuned-xlm-roberta/special_tokens_map.json (deflated 52%)\n"
          ]
        }
      ]
    },
    {
      "cell_type": "code",
      "source": [
        "from google.colab import files\n",
        "files.download('/content/fine-tuned-xlm-roberta.zip')"
      ],
      "metadata": {
        "colab": {
          "base_uri": "https://localhost:8080/",
          "height": 17
        },
        "id": "hSBr_aCGtyCp",
        "outputId": "bf5ed9e5-a688-426f-b3e5-30e196d44210"
      },
      "execution_count": 6,
      "outputs": [
        {
          "output_type": "display_data",
          "data": {
            "text/plain": [
              "<IPython.core.display.Javascript object>"
            ],
            "application/javascript": [
              "\n",
              "    async function download(id, filename, size) {\n",
              "      if (!google.colab.kernel.accessAllowed) {\n",
              "        return;\n",
              "      }\n",
              "      const div = document.createElement('div');\n",
              "      const label = document.createElement('label');\n",
              "      label.textContent = `Downloading \"${filename}\": `;\n",
              "      div.appendChild(label);\n",
              "      const progress = document.createElement('progress');\n",
              "      progress.max = size;\n",
              "      div.appendChild(progress);\n",
              "      document.body.appendChild(div);\n",
              "\n",
              "      const buffers = [];\n",
              "      let downloaded = 0;\n",
              "\n",
              "      const channel = await google.colab.kernel.comms.open(id);\n",
              "      // Send a message to notify the kernel that we're ready.\n",
              "      channel.send({})\n",
              "\n",
              "      for await (const message of channel.messages) {\n",
              "        // Send a message to notify the kernel that we're ready.\n",
              "        channel.send({})\n",
              "        if (message.buffers) {\n",
              "          for (const buffer of message.buffers) {\n",
              "            buffers.push(buffer);\n",
              "            downloaded += buffer.byteLength;\n",
              "            progress.value = downloaded;\n",
              "          }\n",
              "        }\n",
              "      }\n",
              "      const blob = new Blob(buffers, {type: 'application/binary'});\n",
              "      const a = document.createElement('a');\n",
              "      a.href = window.URL.createObjectURL(blob);\n",
              "      a.download = filename;\n",
              "      div.appendChild(a);\n",
              "      a.click();\n",
              "      div.remove();\n",
              "    }\n",
              "  "
            ]
          },
          "metadata": {}
        },
        {
          "output_type": "display_data",
          "data": {
            "text/plain": [
              "<IPython.core.display.Javascript object>"
            ],
            "application/javascript": [
              "download(\"download_c851fb7d-3ae8-47c9-b98f-8986a37360bd\", \"fine-tuned-xlm-roberta.zip\", 766690605)"
            ]
          },
          "metadata": {}
        }
      ]
    }
  ]
}