{
 "cells": [
  {
   "attachments": {},
   "cell_type": "markdown",
   "metadata": {},
   "source": [
    "# Import required libraries\n"
   ]
  },
  {
   "cell_type": "code",
   "execution_count": 4,
   "metadata": {},
   "outputs": [],
   "source": [
    "import torch\n",
    "from transformers import BertTokenizer, BertForSequenceClassification, Trainer, TrainingArguments\n",
    "import numpy as np\n",
    "from sklearn.metrics.pairwise import cosine_similarity\n",
    "from sklearn.metrics import precision_recall_fscore_support, accuracy_score\n",
    "from torch.utils.data import Dataset\n",
    "from feature_extractor_ import FeatureExtractor\n",
    "from preprocessor import Preprocessor\n",
    "from data_loading import DataLoader_Data\n"
   ]
  },
  {
   "attachments": {},
   "cell_type": "markdown",
   "metadata": {},
   "source": [
    "# Load and preprocess the datasets"
   ]
  },
  {
   "cell_type": "code",
   "execution_count": 5,
   "metadata": {},
   "outputs": [],
   "source": [
    "\n",
    "# Load the dataset\n",
    "train_file_path = '/Users/alaaeddinalia/Desktop/Bachelor_Arbeit_2/Rumor_verification/data/raw/English_train.json'\n",
    "train_data_loader = DataLoader_Data(train_file_path)\n",
    "\n",
    "val_file_path = '/Users/alaaeddinalia/Desktop/Bachelor_Arbeit_2/Rumor_verification/data/raw/English_dev.json'\n",
    "val_data_loader = DataLoader_Data(val_file_path)\n",
    "\n",
    "# Initialize the preprocessor\n",
    "preprocessor = Preprocessor(language='english', remove_urls=True, remove_special_characters=True,\n",
    "                            remove_stopwords=True, remove_noise_words=True, remove_emojis=True,\n",
    "                            apply_stemming=False, apply_lemmatization=False)\n",
    "\n",
    "# Preprocess the training data\n",
    "for item in train_data_loader.data:\n",
    "    item['rumor'] = preprocessor.preprocess_text(item['rumor'])\n",
    "    for i, evidence_entry in enumerate(item['evidence']):\n",
    "        item['evidence'][i][2] = preprocessor.preprocess_text(evidence_entry[2])\n",
    "    for i, timeline_entry in enumerate(item['timeline']):\n",
    "        item['timeline'][i][2] = preprocessor.preprocess_text(timeline_entry[2])\n",
    "\n",
    "# Preprocess the validation data\n",
    "for item in val_data_loader.data:\n",
    "    item['rumor'] = preprocessor.preprocess_text(item['rumor'])\n",
    "    for i, evidence_entry in enumerate(item['evidence']):\n",
    "        item['evidence'][i][2] = preprocessor.preprocess_text(evidence_entry[2])\n",
    "    for i, timeline_entry in enumerate(item['timeline']):\n",
    "        item['timeline'][i][2] = preprocessor.preprocess_text(timeline_entry[2])\n"
   ]
  },
  {
   "attachments": {},
   "cell_type": "markdown",
   "metadata": {},
   "source": [
    "# Evidence Retrieval Stage (Using FeatureExtractor)"
   ]
  },
  {
   "cell_type": "code",
   "execution_count": 6,
   "metadata": {},
   "outputs": [
    {
     "name": "stderr",
     "output_type": "stream",
     "text": [
      "/Users/alaaeddinalia/Desktop/Bachelor_Arbeit_2/Rumor_verification/venv/lib/python3.12/site-packages/transformers/tokenization_utils_base.py:1601: FutureWarning: `clean_up_tokenization_spaces` was not set. It will be set to `True` by default. This behavior will be depracted in transformers v4.45, and will be then set to `False` by default. For more details check this issue: https://github.com/huggingface/transformers/issues/31884\n",
      "  warnings.warn(\n"
     ]
    }
   ],
   "source": [
    "from transformers import BertTokenizer, BertModel\n",
    "from sklearn.metrics.pairwise import cosine_similarity\n",
    "import numpy as np\n",
    "\n",
    "# Initialize the BERT feature extractor\n",
    "feature_extractor = FeatureExtractor(method='bert', bert_model_name='bert-base-uncased', batch_size=16)\n",
    "\n",
    "def retrieve_evidence(rumor, timeline, top_n=5):\n",
    "    rumor_embedding = feature_extractor.transform([rumor])\n",
    "    \n",
    "    # Compute embeddings for all timeline entries\n",
    "    timeline_texts = [entry[2] for entry in timeline]\n",
    "    timeline_embeddings = feature_extractor.transform(timeline_texts)\n",
    "    \n",
    "    # Compute cosine similarity between the rumor and all timeline embeddings\n",
    "    similarities = cosine_similarity(rumor_embedding, timeline_embeddings)[0]\n",
    "    \n",
    "    # Get top N most similar timeline entries\n",
    "    top_indices = np.argsort(similarities)[-top_n:]\n",
    "    selected_evidence = [timeline[i][2] for i in top_indices]\n",
    "    \n",
    "    return \" \".join(selected_evidence)\n"
   ]
  },
  {
   "attachments": {},
   "cell_type": "markdown",
   "metadata": {},
   "source": [
    "# Rumor Classification Stage"
   ]
  },
  {
   "cell_type": "code",
   "execution_count": 7,
   "metadata": {},
   "outputs": [],
   "source": [
    "class RumorDataset(Dataset):\n",
    "    def __init__(self, rumors, labels, tokenizer, max_len=512):\n",
    "        self.rumors = rumors\n",
    "        self.labels = labels\n",
    "        self.tokenizer = tokenizer\n",
    "        self.max_len = max_len\n",
    "\n",
    "    def __len__(self):\n",
    "        return len(self.rumors)\n",
    "\n",
    "    def __getitem__(self, index):\n",
    "        rumor = self.rumors[index]\n",
    "        label = self.labels[index]\n",
    "        \n",
    "        encoding = self.tokenizer.encode_plus(\n",
    "            rumor,\n",
    "            add_special_tokens=True,\n",
    "            max_length=self.max_len,\n",
    "            return_token_type_ids=False,\n",
    "            padding='max_length',\n",
    "            truncation=True,\n",
    "            return_attention_mask=True,\n",
    "            return_tensors='pt',\n",
    "        )\n",
    "        \n",
    "        return {\n",
    "            'input_ids': encoding['input_ids'].flatten(),\n",
    "            'attention_mask': encoding['attention_mask'].flatten(),\n",
    "            'label': torch.tensor(label, dtype=torch.long)\n",
    "        }\n"
   ]
  },
  {
   "attachments": {},
   "cell_type": "markdown",
   "metadata": {},
   "source": [
    "# Prepare the data\n"
   ]
  },
  {
   "cell_type": "code",
   "execution_count": 8,
   "metadata": {},
   "outputs": [
    {
     "name": "stderr",
     "output_type": "stream",
     "text": [
      "/Users/alaaeddinalia/Desktop/Bachelor_Arbeit_2/Rumor_verification/venv/lib/python3.12/site-packages/transformers/tokenization_utils_base.py:1601: FutureWarning: `clean_up_tokenization_spaces` was not set. It will be set to `True` by default. This behavior will be depracted in transformers v4.45, and will be then set to `False` by default. For more details check this issue: https://github.com/huggingface/transformers/issues/31884\n",
      "  warnings.warn(\n"
     ]
    }
   ],
   "source": [
    "def prepare_data(data_loader):\n",
    "    rumors = []\n",
    "    labels = []\n",
    "    for item in data_loader.data:\n",
    "        # Retrieve top 5 evidence tweets from the timeline\n",
    "        top_evidence = retrieve_evidence(item['rumor'], item['timeline'])\n",
    "        combined_text = item['rumor'] + \" \" + top_evidence\n",
    "        \n",
    "        rumors.append(combined_text)\n",
    "        # Convert labels to integers\n",
    "        if item['label'] == 'REFUTES':\n",
    "            labels.append(0)\n",
    "        elif item['label'] == 'SUPPORTS':\n",
    "            labels.append(1)\n",
    "        else:  # NOT ENOUGH INFO\n",
    "            labels.append(2)\n",
    "\n",
    "    return rumors, labels\n",
    "\n",
    "# Prepare data for training and validation\n",
    "train_rumors, train_labels = prepare_data(train_data_loader)\n",
    "val_rumors, val_labels = prepare_data(val_data_loader)\n",
    "\n",
    "# Initialize the BERT tokenizer\n",
    "tokenizer = BertTokenizer.from_pretrained('bert-base-uncased')\n",
    "\n",
    "# Create PyTorch datasets\n",
    "train_dataset = RumorDataset(train_rumors, train_labels, tokenizer, max_len=512)\n",
    "val_dataset = RumorDataset(val_rumors, val_labels, tokenizer, max_len=512)\n"
   ]
  },
  {
   "attachments": {},
   "cell_type": "markdown",
   "metadata": {},
   "source": [
    "# Model Evaluation"
   ]
  },
  {
   "cell_type": "code",
   "execution_count": 9,
   "metadata": {},
   "outputs": [
    {
     "data": {
      "application/vnd.jupyter.widget-view+json": {
       "model_id": "9c625f9d4dca480f8768528ecbe53a1a",
       "version_major": 2,
       "version_minor": 0
      },
      "text/plain": [
       "  0%|          | 0/4 [00:00<?, ?it/s]"
      ]
     },
     "metadata": {},
     "output_type": "display_data"
    },
    {
     "data": {
      "text/plain": [
       "{'eval_loss': nan,\n",
       " 'eval_model_preparation_time': 0.0014,\n",
       " 'eval_precision': 0.7587890625,\n",
       " 'eval_recall': 0.40625,\n",
       " 'eval_f1': 0.2347222222222222,\n",
       " 'eval_accuracy': 0.40625,\n",
       " 'eval_runtime': 3.9094,\n",
       " 'eval_samples_per_second': 8.185,\n",
       " 'eval_steps_per_second': 1.023}"
      ]
     },
     "execution_count": 9,
     "metadata": {},
     "output_type": "execute_result"
    }
   ],
   "source": [
    "# Load the fine-tuned classification model\n",
    "model = BertForSequenceClassification.from_pretrained(\"/Users/alaaeddinalia/Desktop/Bachelor_Arbeit_2/Rumor_verification/src/models/Rumor_classifier\")\n",
    "\n",
    "device = torch.device(\"mps\") if torch.backends.mps.is_available() else torch.device(\"cpu\")\n",
    "model = model.to(device)\n",
    "\n",
    "from transformers import Trainer, TrainingArguments\n",
    "\n",
    "training_args = TrainingArguments(\n",
    "    output_dir='./results',\n",
    "    per_device_eval_batch_size=8,\n",
    "    logging_dir='./logs',\n",
    ")\n",
    "\n",
    "# Define the compute_metrics function\n",
    "def compute_metrics(p):\n",
    "    predictions, labels = p\n",
    "    predictions = np.argmax(predictions, axis=1)\n",
    "    precision, recall, f1, _ = precision_recall_fscore_support(labels, predictions, average='weighted', zero_division=1)\n",
    "    accuracy = accuracy_score(labels, predictions)\n",
    "    return {\"precision\": precision, \"recall\": recall, \"f1\": f1, \"accuracy\": accuracy}\n",
    "\n",
    "trainer = Trainer(\n",
    "    model=model,\n",
    "    args=training_args,\n",
    "    eval_dataset=val_dataset,\n",
    "    tokenizer=tokenizer,\n",
    "    compute_metrics=compute_metrics\n",
    ")\n",
    "\n",
    "# Evaluate the model\n",
    "trainer.evaluate()\n"
   ]
  }
 ],
 "metadata": {
  "kernelspec": {
   "display_name": "venv",
   "language": "python",
   "name": "python3"
  },
  "language_info": {
   "codemirror_mode": {
    "name": "ipython",
    "version": 3
   },
   "file_extension": ".py",
   "mimetype": "text/x-python",
   "name": "python",
   "nbconvert_exporter": "python",
   "pygments_lexer": "ipython3",
   "version": "3.12.0"
  },
  "orig_nbformat": 4,
  "vscode": {
   "interpreter": {
    "hash": "3d34e587a68a8b1962d37ed7d17f5a5eb49ff3bc1782909a0fcc667ed67612d8"
   }
  }
 },
 "nbformat": 4,
 "nbformat_minor": 2
}
