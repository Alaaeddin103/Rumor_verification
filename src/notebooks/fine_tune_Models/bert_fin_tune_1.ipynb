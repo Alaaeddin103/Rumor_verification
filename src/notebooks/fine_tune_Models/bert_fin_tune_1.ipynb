{
 "cells": [
  {
   "attachments": {},
   "cell_type": "markdown",
   "metadata": {},
   "source": [
    "# finetune Bert with train and Eval Datasets"
   ]
  },
  {
   "cell_type": "code",
   "execution_count": 4,
   "metadata": {},
   "outputs": [],
   "source": [
    "import torch\n",
    "from transformers import BertTokenizer, BertForSequenceClassification, Trainer, TrainingArguments\n",
    "import numpy as np\n",
    "import json\n",
    "from sklearn.model_selection import train_test_split\n",
    "\n",
    "from transformers import BertTokenizer\n",
    "from torch.utils.data import DataLoader, Dataset\n",
    "import torch\n",
    "\n",
    "from preprocessor import Preprocessor\n",
    "from data_loading import DataLoader_Data\n"
   ]
  },
  {
   "cell_type": "code",
   "execution_count": 2,
   "metadata": {},
   "outputs": [],
   "source": [
    "# Load and preprocess the training dataset\n",
    "train_file_path = '/Users/alaaeddinalia/Desktop/Bachelor_Arbeit_2/Rumor_verification/data/raw/English_train.json'\n",
    "train_data_loader = DataLoader_Data(train_file_path)\n",
    "\n",
    "# Load and preprocess the validation dataset\n",
    "val_file_path = '/Users/alaaeddinalia/Desktop/Bachelor_Arbeit_2/Rumor_verification/data/raw/English_train.json'\n",
    "val_data_loader = DataLoader_Data(val_file_path)\n",
    "\n",
    "\n",
    "preprocessor = Preprocessor(language='english', remove_urls=True, remove_special_characters=True,\n",
    "                            remove_stopwords=True, remove_noise_words=True, remove_emojis=True,\n",
    "                            apply_stemming=False, apply_lemmatization=False)\n",
    "\n",
    "# Preprocess the training data\n",
    "for item in train_data_loader.data:\n",
    "    item['rumor'] = preprocessor.preprocess_text(item['rumor'])\n",
    "    for i, evidence_entry in enumerate(item['evidence']):\n",
    "        item['evidence'][i][2] = preprocessor.preprocess_text(evidence_entry[2])\n",
    "    for i, timeline_entry in enumerate(item['timeline']):\n",
    "        item['timeline'][i][2] = preprocessor.preprocess_text(timeline_entry[2])\n",
    "\n",
    "# Preprocess the validation data\n",
    "for item in val_data_loader.data:\n",
    "    item['rumor'] = preprocessor.preprocess_text(item['rumor'])\n",
    "    for i, evidence_entry in enumerate(item['evidence']):\n",
    "        item['evidence'][i][2] = preprocessor.preprocess_text(evidence_entry[2])\n",
    "    for i, timeline_entry in enumerate(item['timeline']):\n",
    "        item['timeline'][i][2] = preprocessor.preprocess_text(timeline_entry[2])\n"
   ]
  },
  {
   "cell_type": "code",
   "execution_count": 3,
   "metadata": {},
   "outputs": [],
   "source": [
    "def prepare_data(data_loader):\n",
    "    texts = []\n",
    "    labels = []\n",
    "    for item in data_loader.data:\n",
    "        evidence_text = \" \".join([e[2] for e in item['evidence']])\n",
    "        combined_text = item['rumor'] + \" \" + evidence_text\n",
    "        texts.append(combined_text)\n",
    "\n",
    "        # Convert labels to integers\n",
    "        if item['label'] == 'REFUTES':\n",
    "            labels.append(0)\n",
    "        elif item['label'] == 'SUPPORTS':\n",
    "            labels.append(1)\n",
    "        else:  # NOT ENOUGH INFO\n",
    "            labels.append(2)\n",
    "\n",
    "    return texts, labels\n",
    "\n",
    "# Prepare data for training and validation\n",
    "train_texts, train_labels = prepare_data(train_data_loader)\n",
    "val_texts, val_labels = prepare_data(val_data_loader)\n"
   ]
  },
  {
   "cell_type": "code",
   "execution_count": 5,
   "metadata": {},
   "outputs": [],
   "source": [
    "import torch\n",
    "from torch.utils.data import Dataset\n",
    "\n",
    "class RumorDataset(Dataset):\n",
    "    def __init__(self, texts, labels, tokenizer, max_len=512):\n",
    "        self.texts = texts\n",
    "        self.labels = labels\n",
    "        self.tokenizer = tokenizer\n",
    "        self.max_len = max_len\n",
    "\n",
    "    def __len__(self):\n",
    "        return len(self.texts)\n",
    "\n",
    "    def __getitem__(self, index):\n",
    "        text = self.texts[index]\n",
    "        label = self.labels[index]\n",
    "        \n",
    "        # Tokenize the text\n",
    "        encoding = self.tokenizer.encode_plus(\n",
    "            text,\n",
    "            add_special_tokens=True,\n",
    "            max_length=self.max_len,\n",
    "            return_token_type_ids=False,\n",
    "            padding='max_length',\n",
    "            truncation=True,\n",
    "            return_attention_mask=True,\n",
    "            return_tensors='pt',\n",
    "        )\n",
    "        \n",
    "        return {\n",
    "            'input_ids': encoding['input_ids'].flatten(),\n",
    "            'attention_mask': encoding['attention_mask'].flatten(),\n",
    "            'label': torch.tensor(label, dtype=torch.long)\n",
    "        }\n"
   ]
  },
  {
   "cell_type": "code",
   "execution_count": 6,
   "metadata": {},
   "outputs": [
    {
     "name": "stderr",
     "output_type": "stream",
     "text": [
      "/Users/alaaeddinalia/Desktop/Bachelor_Arbeit_2/Rumor_verification/venv/lib/python3.12/site-packages/transformers/tokenization_utils_base.py:1601: FutureWarning: `clean_up_tokenization_spaces` was not set. It will be set to `True` by default. This behavior will be depracted in transformers v4.45, and will be then set to `False` by default. For more details check this issue: https://github.com/huggingface/transformers/issues/31884\n",
      "  warnings.warn(\n"
     ]
    }
   ],
   "source": [
    "# Assume prepare_data function from earlier is used to get texts and labels\n",
    "train_texts, train_labels = prepare_data(train_data_loader)\n",
    "val_texts, val_labels = prepare_data(val_data_loader)\n",
    "\n",
    "# Initialize the BERT tokenizer\n",
    "tokenizer = BertTokenizer.from_pretrained('bert-base-uncased')\n",
    "\n",
    "# Create PyTorch datasets\n",
    "train_dataset = RumorDataset(train_texts, train_labels, tokenizer, max_len=512)\n",
    "val_dataset = RumorDataset(val_texts, val_labels, tokenizer, max_len=512)"
   ]
  },
  {
   "cell_type": "code",
   "execution_count": 7,
   "metadata": {},
   "outputs": [
    {
     "name": "stderr",
     "output_type": "stream",
     "text": [
      "Some weights of BertForSequenceClassification were not initialized from the model checkpoint at bert-base-uncased and are newly initialized: ['classifier.bias', 'classifier.weight']\n",
      "You should probably TRAIN this model on a down-stream task to be able to use it for predictions and inference.\n"
     ]
    }
   ],
   "source": [
    "# Initialize the BERT model for sequence classification\n",
    "model = BertForSequenceClassification.from_pretrained('bert-base-uncased', num_labels=3)\n"
   ]
  },
  {
   "cell_type": "code",
   "execution_count": 8,
   "metadata": {},
   "outputs": [],
   "source": [
    "device = torch.device(\"mps\") if torch.backends.mps.is_available() else torch.device(\"cpu\")\n",
    "model = model.to(device)"
   ]
  },
  {
   "cell_type": "code",
   "execution_count": 9,
   "metadata": {},
   "outputs": [],
   "source": [
    "from transformers import TrainingArguments, Trainer\n",
    "\n",
    "\n",
    "training_args = TrainingArguments(\n",
    "    output_dir='./results',\n",
    "    eval_strategy=\"epoch\",  \n",
    "    learning_rate=2e-5,\n",
    "    per_device_train_batch_size=8,\n",
    "    per_device_eval_batch_size=8,\n",
    "    num_train_epochs=10,\n",
    "    weight_decay=0.01,\n",
    "    logging_dir='./logs',         \n",
    "    logging_steps=10,\n",
    ")\n"
   ]
  },
  {
   "cell_type": "code",
   "execution_count": 10,
   "metadata": {},
   "outputs": [],
   "source": [
    "from sklearn.metrics import precision_recall_fscore_support, accuracy_score\n",
    "\n",
    "def compute_metrics(p):\n",
    "    predictions, labels = p\n",
    "    predictions = np.argmax(predictions, axis=1)\n",
    "\n",
    "   \n",
    "    precision, recall, f1, _ = precision_recall_fscore_support(labels, predictions, average='weighted',zero_division=1)\n",
    "    \n",
    "\n",
    "    accuracy = accuracy_score(labels, predictions)\n",
    "    \n",
    "    return {\"precision\": precision, \"recall\": recall, \"f1\": f1, \"accuracy\": accuracy}\n"
   ]
  },
  {
   "cell_type": "code",
   "execution_count": 11,
   "metadata": {},
   "outputs": [],
   "source": [
    "trainer = Trainer(\n",
    "    model=model,\n",
    "    args=training_args,\n",
    "    train_dataset=train_dataset,\n",
    "    eval_dataset=val_dataset,\n",
    "    tokenizer=tokenizer,\n",
    "    compute_metrics=compute_metrics\n",
    ")\n"
   ]
  },
  {
   "cell_type": "code",
   "execution_count": 12,
   "metadata": {},
   "outputs": [
    {
     "data": {
      "application/vnd.jupyter.widget-view+json": {
       "model_id": "ddba823b9e7a496eb5897c8756663307",
       "version_major": 2,
       "version_minor": 0
      },
      "text/plain": [
       "  0%|          | 0/120 [00:00<?, ?it/s]"
      ]
     },
     "metadata": {},
     "output_type": "display_data"
    },
    {
     "name": "stdout",
     "output_type": "stream",
     "text": [
      "{'loss': 1.0221, 'grad_norm': nan, 'learning_rate': 1.8333333333333333e-05, 'epoch': 0.83}\n"
     ]
    },
    {
     "data": {
      "application/vnd.jupyter.widget-view+json": {
       "model_id": "00b611942b2c47098ec20401df74670d",
       "version_major": 2,
       "version_minor": 0
      },
      "text/plain": [
       "  0%|          | 0/4 [00:00<?, ?it/s]"
      ]
     },
     "metadata": {},
     "output_type": "display_data"
    },
    {
     "name": "stdout",
     "output_type": "stream",
     "text": [
      "{'eval_loss': nan, 'eval_precision': 0.7587890625, 'eval_recall': 0.40625, 'eval_f1': 0.2347222222222222, 'eval_accuracy': 0.40625, 'eval_runtime': 4.0839, 'eval_samples_per_second': 7.836, 'eval_steps_per_second': 0.979, 'epoch': 1.0}\n",
      "{'loss': 0.0, 'grad_norm': nan, 'learning_rate': 1.6666666666666667e-05, 'epoch': 1.67}\n"
     ]
    },
    {
     "data": {
      "application/vnd.jupyter.widget-view+json": {
       "model_id": "b74a8b8ba13240d8a31027ad38293067",
       "version_major": 2,
       "version_minor": 0
      },
      "text/plain": [
       "  0%|          | 0/4 [00:00<?, ?it/s]"
      ]
     },
     "metadata": {},
     "output_type": "display_data"
    },
    {
     "name": "stdout",
     "output_type": "stream",
     "text": [
      "{'eval_loss': nan, 'eval_precision': 0.7587890625, 'eval_recall': 0.40625, 'eval_f1': 0.2347222222222222, 'eval_accuracy': 0.40625, 'eval_runtime': 4.4199, 'eval_samples_per_second': 7.24, 'eval_steps_per_second': 0.905, 'epoch': 2.0}\n",
      "{'loss': 0.0, 'grad_norm': nan, 'learning_rate': 1.5000000000000002e-05, 'epoch': 2.5}\n"
     ]
    },
    {
     "data": {
      "application/vnd.jupyter.widget-view+json": {
       "model_id": "8adeaeac95f94a7395c25478808b702a",
       "version_major": 2,
       "version_minor": 0
      },
      "text/plain": [
       "  0%|          | 0/4 [00:00<?, ?it/s]"
      ]
     },
     "metadata": {},
     "output_type": "display_data"
    },
    {
     "name": "stdout",
     "output_type": "stream",
     "text": [
      "{'eval_loss': nan, 'eval_precision': 0.7587890625, 'eval_recall': 0.40625, 'eval_f1': 0.2347222222222222, 'eval_accuracy': 0.40625, 'eval_runtime': 5.1696, 'eval_samples_per_second': 6.19, 'eval_steps_per_second': 0.774, 'epoch': 3.0}\n",
      "{'loss': 0.0, 'grad_norm': nan, 'learning_rate': 1.3333333333333333e-05, 'epoch': 3.33}\n"
     ]
    },
    {
     "data": {
      "application/vnd.jupyter.widget-view+json": {
       "model_id": "6d89ccae9743470f9edac62de34deab4",
       "version_major": 2,
       "version_minor": 0
      },
      "text/plain": [
       "  0%|          | 0/4 [00:00<?, ?it/s]"
      ]
     },
     "metadata": {},
     "output_type": "display_data"
    },
    {
     "name": "stdout",
     "output_type": "stream",
     "text": [
      "{'eval_loss': nan, 'eval_precision': 0.7587890625, 'eval_recall': 0.40625, 'eval_f1': 0.2347222222222222, 'eval_accuracy': 0.40625, 'eval_runtime': 5.2525, 'eval_samples_per_second': 6.092, 'eval_steps_per_second': 0.762, 'epoch': 4.0}\n",
      "{'loss': 0.0, 'grad_norm': nan, 'learning_rate': 1.1666666666666668e-05, 'epoch': 4.17}\n",
      "{'loss': 0.0, 'grad_norm': nan, 'learning_rate': 1e-05, 'epoch': 5.0}\n"
     ]
    },
    {
     "data": {
      "application/vnd.jupyter.widget-view+json": {
       "model_id": "17bcee46dbc645a69053f040bceb44b0",
       "version_major": 2,
       "version_minor": 0
      },
      "text/plain": [
       "  0%|          | 0/4 [00:00<?, ?it/s]"
      ]
     },
     "metadata": {},
     "output_type": "display_data"
    },
    {
     "name": "stdout",
     "output_type": "stream",
     "text": [
      "{'eval_loss': nan, 'eval_precision': 0.7587890625, 'eval_recall': 0.40625, 'eval_f1': 0.2347222222222222, 'eval_accuracy': 0.40625, 'eval_runtime': 4.1771, 'eval_samples_per_second': 7.661, 'eval_steps_per_second': 0.958, 'epoch': 5.0}\n",
      "{'loss': 0.0, 'grad_norm': nan, 'learning_rate': 8.333333333333334e-06, 'epoch': 5.83}\n"
     ]
    },
    {
     "data": {
      "application/vnd.jupyter.widget-view+json": {
       "model_id": "a304a4122cf249828d049f71a5dc19e4",
       "version_major": 2,
       "version_minor": 0
      },
      "text/plain": [
       "  0%|          | 0/4 [00:00<?, ?it/s]"
      ]
     },
     "metadata": {},
     "output_type": "display_data"
    },
    {
     "name": "stdout",
     "output_type": "stream",
     "text": [
      "{'eval_loss': nan, 'eval_precision': 0.7587890625, 'eval_recall': 0.40625, 'eval_f1': 0.2347222222222222, 'eval_accuracy': 0.40625, 'eval_runtime': 3.6883, 'eval_samples_per_second': 8.676, 'eval_steps_per_second': 1.085, 'epoch': 6.0}\n",
      "{'loss': 0.0, 'grad_norm': nan, 'learning_rate': 6.666666666666667e-06, 'epoch': 6.67}\n"
     ]
    },
    {
     "data": {
      "application/vnd.jupyter.widget-view+json": {
       "model_id": "10263e1cf86d4b0fb421042b6ac471be",
       "version_major": 2,
       "version_minor": 0
      },
      "text/plain": [
       "  0%|          | 0/4 [00:00<?, ?it/s]"
      ]
     },
     "metadata": {},
     "output_type": "display_data"
    },
    {
     "name": "stdout",
     "output_type": "stream",
     "text": [
      "{'eval_loss': nan, 'eval_precision': 0.7587890625, 'eval_recall': 0.40625, 'eval_f1': 0.2347222222222222, 'eval_accuracy': 0.40625, 'eval_runtime': 3.6718, 'eval_samples_per_second': 8.715, 'eval_steps_per_second': 1.089, 'epoch': 7.0}\n",
      "{'loss': 0.0, 'grad_norm': nan, 'learning_rate': 5e-06, 'epoch': 7.5}\n"
     ]
    },
    {
     "data": {
      "application/vnd.jupyter.widget-view+json": {
       "model_id": "30d3a9721c1c44e0b3866b61826caaf6",
       "version_major": 2,
       "version_minor": 0
      },
      "text/plain": [
       "  0%|          | 0/4 [00:00<?, ?it/s]"
      ]
     },
     "metadata": {},
     "output_type": "display_data"
    },
    {
     "name": "stdout",
     "output_type": "stream",
     "text": [
      "{'eval_loss': nan, 'eval_precision': 0.7587890625, 'eval_recall': 0.40625, 'eval_f1': 0.2347222222222222, 'eval_accuracy': 0.40625, 'eval_runtime': 3.8114, 'eval_samples_per_second': 8.396, 'eval_steps_per_second': 1.049, 'epoch': 8.0}\n",
      "{'loss': 0.0, 'grad_norm': nan, 'learning_rate': 3.3333333333333333e-06, 'epoch': 8.33}\n"
     ]
    },
    {
     "data": {
      "application/vnd.jupyter.widget-view+json": {
       "model_id": "f67baf540f0a4c0a9abdfff30767c26b",
       "version_major": 2,
       "version_minor": 0
      },
      "text/plain": [
       "  0%|          | 0/4 [00:00<?, ?it/s]"
      ]
     },
     "metadata": {},
     "output_type": "display_data"
    },
    {
     "name": "stdout",
     "output_type": "stream",
     "text": [
      "{'eval_loss': nan, 'eval_precision': 0.7587890625, 'eval_recall': 0.40625, 'eval_f1': 0.2347222222222222, 'eval_accuracy': 0.40625, 'eval_runtime': 5.8174, 'eval_samples_per_second': 5.501, 'eval_steps_per_second': 0.688, 'epoch': 9.0}\n",
      "{'loss': 0.0, 'grad_norm': nan, 'learning_rate': 1.6666666666666667e-06, 'epoch': 9.17}\n",
      "{'loss': 0.0, 'grad_norm': nan, 'learning_rate': 0.0, 'epoch': 10.0}\n"
     ]
    },
    {
     "data": {
      "application/vnd.jupyter.widget-view+json": {
       "model_id": "74c8c50443274e7ba9ed14bd2aa7b3a2",
       "version_major": 2,
       "version_minor": 0
      },
      "text/plain": [
       "  0%|          | 0/4 [00:00<?, ?it/s]"
      ]
     },
     "metadata": {},
     "output_type": "display_data"
    },
    {
     "name": "stdout",
     "output_type": "stream",
     "text": [
      "{'eval_loss': nan, 'eval_precision': 0.7587890625, 'eval_recall': 0.40625, 'eval_f1': 0.2347222222222222, 'eval_accuracy': 0.40625, 'eval_runtime': 5.8267, 'eval_samples_per_second': 5.492, 'eval_steps_per_second': 0.686, 'epoch': 10.0}\n",
      "{'train_runtime': 8687.6938, 'train_samples_per_second': 0.111, 'train_steps_per_second': 0.014, 'train_loss': 0.08517306645711263, 'epoch': 10.0}\n"
     ]
    },
    {
     "data": {
      "text/plain": [
       "TrainOutput(global_step=120, training_loss=0.08517306645711263, metrics={'train_runtime': 8687.6938, 'train_samples_per_second': 0.111, 'train_steps_per_second': 0.014, 'total_flos': 252588881018880.0, 'train_loss': 0.08517306645711263, 'epoch': 10.0})"
      ]
     },
     "execution_count": 12,
     "metadata": {},
     "output_type": "execute_result"
    }
   ],
   "source": [
    "# Train the mode\n",
    "trainer.train()"
   ]
  },
  {
   "cell_type": "code",
   "execution_count": 13,
   "metadata": {},
   "outputs": [
    {
     "data": {
      "application/vnd.jupyter.widget-view+json": {
       "model_id": "9586a92f8fca4409ba8d43fb83c5d913",
       "version_major": 2,
       "version_minor": 0
      },
      "text/plain": [
       "  0%|          | 0/4 [00:00<?, ?it/s]"
      ]
     },
     "metadata": {},
     "output_type": "display_data"
    },
    {
     "data": {
      "text/plain": [
       "{'eval_loss': nan,\n",
       " 'eval_precision': 0.7587890625,\n",
       " 'eval_recall': 0.40625,\n",
       " 'eval_f1': 0.2347222222222222,\n",
       " 'eval_accuracy': 0.40625,\n",
       " 'eval_runtime': 4.2532,\n",
       " 'eval_samples_per_second': 7.524,\n",
       " 'eval_steps_per_second': 0.94,\n",
       " 'epoch': 10.0}"
      ]
     },
     "execution_count": 13,
     "metadata": {},
     "output_type": "execute_result"
    }
   ],
   "source": [
    "trainer.evaluate()"
   ]
  },
  {
   "cell_type": "code",
   "execution_count": 14,
   "metadata": {},
   "outputs": [
    {
     "data": {
      "text/plain": [
       "('../data/Rumor_classifier/tokenizer_config.json',\n",
       " '../data/Rumor_classifier/special_tokens_map.json',\n",
       " '../data/Rumor_classifier/vocab.txt',\n",
       " '../data/Rumor_classifier/added_tokens.json')"
      ]
     },
     "execution_count": 14,
     "metadata": {},
     "output_type": "execute_result"
    }
   ],
   "source": [
    "model.save_pretrained(\"/Users/alaaeddinalia/Desktop/Bachelor_Arbeit_2/Rumor_verification/src/models/Rumor_classifier\")\n",
    "tokenizer.save_pretrained(\"/Users/alaaeddinalia/Desktop/Bachelor_Arbeit_2/Rumor_verification/src/models/Rumor_classifier\")"
   ]
  }
 ],
 "metadata": {
  "kernelspec": {
   "display_name": "venv",
   "language": "python",
   "name": "python3"
  },
  "language_info": {
   "codemirror_mode": {
    "name": "ipython",
    "version": 3
   },
   "file_extension": ".py",
   "mimetype": "text/x-python",
   "name": "python",
   "nbconvert_exporter": "python",
   "pygments_lexer": "ipython3",
   "version": "3.12.0"
  },
  "orig_nbformat": 4,
  "vscode": {
   "interpreter": {
    "hash": "3d34e587a68a8b1962d37ed7d17f5a5eb49ff3bc1782909a0fcc667ed67612d8"
   }
  }
 },
 "nbformat": 4,
 "nbformat_minor": 2
}
